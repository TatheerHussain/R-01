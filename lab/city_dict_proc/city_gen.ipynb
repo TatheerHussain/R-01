{
 "cells": [
  {
   "cell_type": "code",
   "execution_count": null,
   "metadata": {},
   "outputs": [],
   "source": [
    "import re\n"
   ]
  },
  {
   "cell_type": "code",
   "execution_count": 18,
   "metadata": {},
   "outputs": [
    {
     "name": "stdout",
     "output_type": "stream",
     "text": [
      "Adelaide, SA\n",
      " res==> ADELAIDE\n",
      "Aramac, Qld\n",
      " res==> ARAMAC\n",
      "Bundaberg, Qld\n",
      " res==> BUNDABERG\n",
      "Caboolture, Qld\n",
      " res==> CABOOLTURE\n",
      "Carnarvon, WA\n",
      " res==> CARNARVON\n",
      "Cockatoo Island, NSW\n",
      " res==> COCKATOO ISLAND\n",
      "Fremantle, WA\n",
      " res==> FREMANTLE\n",
      "George Town,, Tas\n",
      " res==> GEORGE TOWN\n",
      "Glenelg, SA\n",
      " res==> GLENELG\n",
      "Grassy, Tas\n",
      " res==> GRASSY\n",
      "Grenfell,, NSW\n",
      " res==> GRENFELL\n",
      "Hay, NSW\n",
      " res==> HAY\n",
      "Irvine Bank, Qld\n",
      " res==> IRVINE BANK\n",
      "Kangaroo Island, SA\n",
      " res==> KANGAROO ISLAND\n",
      "Kingston, near Creswick\n",
      " res==> KINGSTON\n",
      "Leeton, NSW\n",
      " res==> LEETON\n",
      "Kwinana, WA\n",
      " res==> KWINANA\n",
      "Leeton, NSW\n",
      " res==> LEETON\n",
      "Orange, NSW\n",
      " res==> ORANGE\n",
      "Peppermint Grove, WA\n",
      " res==> PEPPERMINT GROVE\n",
      "Saddleworth, SA\n",
      " res==> SADDLEWORTH\n",
      "Stanley, Tas\n",
      " res==> STANLEY\n",
      "Surat, Qld\n",
      " res==> SURAT\n",
      "Sydney, NSW\n",
      " res==> SYDNEY\n",
      "Tabilk, VIC\n",
      " res==> TABILK\n",
      "Tea Tree Gully, SA\n",
      " res==> TEA TREE GULLY\n",
      "Temora, NSW\n",
      " res==> TEMORA\n",
      "Tumut, NSW\n",
      " res==> TUMUT\n",
      "Victor Harbour, SA\n",
      " res==> VICTOR HARBOUR\n",
      "Warwick, Qld\n",
      " res==> WARWICK\n",
      "Yass, NSW\n",
      " res==> YASS\n",
      "Zeehan, Tas res==> ZEEHAN\n"
     ]
    }
   ],
   "source": [
    "# open CITY_dict_s.txt del space line and to upper write to CITY_dict.txt , if line have ',' in it dont add it , print it\n",
    "with open(rf'C:\\Users\\rui\\Desktop\\worker_intelligence_ner\\lab\\city_dict_proc\\CITY_dict_s.txt', 'r') as f:\n",
    "    with open(rf'C:\\Users\\rui\\Desktop\\worker_intelligence_ner\\lab\\city_dict_proc\\CITY_dict.txt', 'w') as f2:\n",
    "        for line in f:\n",
    "            if line.strip():\n",
    "                if ',' in line:\n",
    "                    nl = line.split(',')[0]\n",
    "                    f2.write(nl.upper() + '\\n')\n",
    "                    print(line , 'res==>' , nl.upper())\n",
    "                else:\n",
    "                    f2.write(line.upper())\n",
    "                    pass\n",
    "                "
   ]
  }
 ],
 "metadata": {
  "kernelspec": {
   "display_name": "base",
   "language": "python",
   "name": "python3"
  },
  "language_info": {
   "codemirror_mode": {
    "name": "ipython",
    "version": 3
   },
   "file_extension": ".py",
   "mimetype": "text/x-python",
   "name": "python",
   "nbconvert_exporter": "python",
   "pygments_lexer": "ipython3",
   "version": "3.11.5"
  }
 },
 "nbformat": 4,
 "nbformat_minor": 2
}
