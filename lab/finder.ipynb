{
 "cells": [
  {
   "cell_type": "code",
   "execution_count": 2,
   "metadata": {},
   "outputs": [
    {
     "name": "stdout",
     "output_type": "stream",
     "text": [
      "\n",
      "Episode No:  09F016547J\n",
      "091016.NMT\n",
      "\n",
      "SIZAR, HOWARD \n",
      "Lab No:  09F01654\n",
      "Runford\n",
      "RENMARK  TAS  5084\n",
      "Specimen: Tissue\n",
      "D.O.B:  24/8/1993\n",
      "Sex:  M\n",
      "Collected: 28/08/2013 at 08:26\n",
      "Location:  St Vincent-BATLOW/ADELONG MULTI PURPOSE SERVICE\n",
      "DR JAXON AL-KARSTEN\n",
      "Distribution:   FILE-COPY\n",
      "\n",
      "CLINICAL:\n",
      "Ca prostate.  Prostate SV.  G7 L base. \n",
      "MACROSCOPIC:\n",
      "A.  Specimen labelled \"Prostate\", consists of a prostate measuring 45 x 38 x 35mm and weighing 29.9g.  The left seminal vesicle measures 15 x 15 x 10mm, however no definite right seminal vesicle identified. The ? left vas measures 7mm in length while the ? right vas measures 8mm in length.  The left half is inked blue, the right half is inked black with anterior red.  The prostate is transversely sectioned into four slices.  Slice 1 (apex) and4 (base) are further parasagittally sectioned. The specimen is AE.  Blocks 1-7 - slice 1 (apex) from right to left; 8 & 9 - slices 2and 3; 10-18 - slice 4 (base); 19 - left vas. AE.  Please refer to attached diagram.  Blocks 8 and 9 were subsequently subdivided into quadrants and embedded clockwise from right anterior with nicks medial (blocks 8-1 to 9-4).\n",
      "B.  Specimen labelled \"Bladder neck biopsy\", consists of an irregular tan piece of tissue measuring 13 x 10 x 10mm.  Serially sectioned, AE 1 block. \n",
      "(TO: RF;BL/ec 29.10.63) \n",
      "MICROSCOPIC: (Reported by Dr A Hobday) \n",
      "The entire prostate and seminal vesicle have been embedded and examined.  Sections show two separate small foci of acinar adenocarcinoma with an overall Gleason score of 3+4=7 in the left and right posterolateral mid prostate.  The pattern 4 carcinoma is present focally in the left mid posterolateral prostate and comprises 5% of the tumour.  Multiple levels in this area and in the left base of prostate have been examined and no dominant pattern 4 carcinoma is identified.  Specimen B comprises a nodule of benign prostatic tissue and fibromuscular stroma in which there is no evidence of malignancy.   No thick bundles of smooth muscle are seen.  A synoptic report follows.\n",
      "\n",
      "Specimen:  Prostate and seminal vesicles\n",
      "Histological type:  Acinar adenocarcinoma\n",
      "Tumour location:\n",
      "Dominant nodule: Left mid posterolateral\n",
      "\tNon-dominant (>10mm): Absent\n",
      "\tSmaller nodules: Right mid posterolateral\n",
      "Volume/Size:\t0.03ml (3.5mm x 3.2mm x 6mm x 1 slice x 0.0004) \n",
      "\n",
      "The tumour is present in two consecutive slices but is cutting out early in the second slice, therefore one slice is used in the calculation above.\n",
      "Gleason score: 3+4=7  (95% 3 , 5% 4)\n",
      "Extraprostatic extension: Absent\n",
      "Surgical margins: Clear\n",
      "Perineural invasion: Absent\n",
      "Seminal vesicles: Not involved\n",
      "Lymph nodes: N/A\n",
      "Lymphovascular invasion:  Absent\n",
      "Other:  Patchy high grade prostatic intraepithelial neoplasia (PIN) is present.\n",
      "Stage (AJCC/UICC TNM system, 7th edition)\n",
      "pT2c Bilateral disease \n",
      "pNX Regional lymph nodes not sampled. \n",
      "MX Cannot be assessed histologically\n",
      "\n",
      "DIAGNOSIS:\n",
      "A & B.  Radical prostatectomy and bladder neck biopsy:\n",
      "-  Acinar adenocarcinoma, Gleason score 3+4=7; margins clear.\n",
      "-  Stage pT2c NX MX.\n",
      "-  Specimen B is benign prostatic tissue.\n",
      "\n",
      "\n"
     ]
    }
   ],
   "source": [
    "f = ''\n",
    "with open(rf'../test_data/10.txt', 'r') as f:\n",
    "    file = f.read()\n",
    "print(file)"
   ]
  },
  {
   "cell_type": "markdown",
   "metadata": {},
   "source": [
    "| Label           | Count |\n",
    "|-----------------|-------|\n",
    "| DOCTOR          | 3784  |\n",
    "| DATE            | 2922  |\n",
    "| IDNUM           | 2346  |\n",
    "| MEDICALRECORD   | 1210  |\n",
    "| PATIENT         | 1196  |\n",
    "| HOSPITAL        | 1177  |\n",
    "| TIME            | 664   |\n",
    "| DEPARTMENT      | 537   |\n",
    "| CITY            | 458   |\n",
    "| ZIP             | 452   |\n",
    "| STREET          | 444   |\n",
    "| STATE           | 428   |\n",
    "| AGE             | 89    |\n",
    "| ORGANIZATION    | 69    |\n",
    "| DURATION        | 13    |\n",
    "| PHONE           | 5     |\n",
    "| URL             | 3     |\n",
    "| LOCATION-OTHER  | 2     |\n",
    "| SET             | 1     |\n",
    "| COUNTRY         | 1     |"
   ]
  },
  {
   "cell_type": "markdown",
   "metadata": {},
   "source": [
    "# IDNUM\n",
    "Lab No:  \n",
    "Episode No:  "
   ]
  },
  {
   "cell_type": "code",
   "execution_count": 5,
   "metadata": {},
   "outputs": [
    {
     "data": {
      "text/plain": [
       "['09F016547J', '09F01654']"
      ]
     },
     "execution_count": 5,
     "metadata": {},
     "output_type": "execute_result"
    }
   ],
   "source": [
    "import re\n",
    "\n",
    "def IDNUM_finder(file):\n",
    "    IDNUM = []\n",
    "    key_words = ['Lab No:', 'Episode No:']\n",
    "    file_split = file.split('\\n')\n",
    "    pattern = [\n",
    "        rf'(?i)lab *no:?\\s*(\\w+)',\n",
    "        rf'(?i)episode *no:?\\s*(\\w+)',\n",
    "        rf'(?i)SPR  *no:?\\s*(\\w+)',\n",
    "    ]\n",
    "    else_pattern = rf'^\\s*(\\w+)'\n",
    "\n",
    "    \n",
    "    for line in file_split:\n",
    "        for p in pattern:\n",
    "            IDNUM += re.findall(p, line)\n",
    "    #\n",
    "    if len(IDNUM) == 0:\n",
    "        for line in file_split:\n",
    "            IDNUM += re.findall(else_pattern, line)\n",
    "            if len(IDNUM) != 0:\n",
    "                break\n",
    "    return IDNUM\n",
    "IDNUM_finder(file)"
   ]
  },
  {
   "cell_type": "code",
   "execution_count": 56,
   "metadata": {},
   "outputs": [
    {
     "name": "stdout",
     "output_type": "stream",
     "text": [
      "52 69 09F01654\n"
     ]
    }
   ],
   "source": [
    "pat = rf'(?i)lab *no:?\\s*(\\w+)'\n",
    "\n",
    "r = re.finditer(pat , file)\n",
    "for i in r:\n",
    "    print(i.start() , i.end() , i.group(1))"
   ]
  },
  {
   "cell_type": "markdown",
   "metadata": {},
   "source": [
    "# DOCTOR\n",
    "(Reported by Dr S Bowdish)\n",
    "(QI/mm 23 7.62)\n",
    "DR TAD HERMAN KONICKI"
   ]
  },
  {
   "cell_type": "code",
   "execution_count": 6,
   "metadata": {},
   "outputs": [
    {
     "data": {
      "text/plain": [
       "['JAXON AL-KARSTEN', 'A Hobday', 'AJCC']"
      ]
     },
     "execution_count": 6,
     "metadata": {},
     "output_type": "execute_result"
    }
   ],
   "source": [
    "def DOCTOR_finder(file):\n",
    "    DOCTOR = []\n",
    "    \n",
    "    file_split = file.split('\\n')\n",
    "    pattern = [\n",
    "        rf'(?i)DR\\s\\s*([\\w\\s\\-]+)',\n",
    "        rf'(?i)DR:?\\s*(\\w+-\\w+)',\n",
    "        rf'\\(\\s?(\\w+)\\s?\\/',#(VA/ec 19.7.62) \n",
    "        \n",
    "    ]\n",
    "    \n",
    "    for line in file_split:\n",
    "        for p in pattern:\n",
    "            DOCTOR += re.findall(p, line)\n",
    "    return DOCTOR\n",
    "DOCTOR_finder(file)"
   ]
  },
  {
   "cell_type": "code",
   "execution_count": 189,
   "metadata": {},
   "outputs": [
    {
     "data": {
      "text/plain": [
       "['93']"
      ]
     },
     "execution_count": 189,
     "metadata": {},
     "output_type": "execute_result"
    }
   ],
   "source": [
    "s = 'D.O.B:  24/8/1993'\n",
    "\n",
    "p = rf'(\\d{3})'\n",
    "\n",
    "re.findall(p, s) "
   ]
  },
  {
   "cell_type": "code",
   "execution_count": 2,
   "metadata": {},
   "outputs": [
    {
     "name": "stdout",
     "output_type": "stream",
     "text": [
      "Found date: 2023-11-05\n"
     ]
    }
   ],
   "source": [
    "import re\n",
    "\n",
    "# Define the regex pattern for the date format \"YYYY-MM-DD\"\n",
    "date_pattern = r'\\d{4}-\\d{2}-\\d{2}'\n",
    "\n",
    "# Sample text containing dates\n",
    "text = \"2023-11-05 is a date, but 11-05-2023 is not.\"\n",
    "\n",
    "# Use re.findall to find all matching dates in the text\n",
    "matches = re.findall(date_pattern, text)\n",
    "\n",
    "# Print the matching dates\n",
    "for match in matches:\n",
    "    print(\"Found date:\", match)"
   ]
  },
  {
   "cell_type": "markdown",
   "metadata": {},
   "source": [
    "# DATE\n",
    "24/8/1993\n",
    "29.10.63\n",
    "17/7/2062\n",
    "3/2/2024"
   ]
  },
  {
   "cell_type": "code",
   "execution_count": null,
   "metadata": {},
   "outputs": [],
   "source": []
  },
  {
   "cell_type": "code",
   "execution_count": 207,
   "metadata": {},
   "outputs": [
    {
     "data": {
      "text/plain": [
       "['24/8/1993', '29.10.63']"
      ]
     },
     "execution_count": 207,
     "metadata": {},
     "output_type": "execute_result"
    }
   ],
   "source": [
    "def DATE_finder(file):\n",
    "    DATE = []\n",
    "    is_time_key_word = ['at', 'AT', 'on' , 'ON']\n",
    "    file_split = file.split('\\n')\n",
    "    pattern = [\n",
    "        r'(\\d{1,2}\\/\\d{1,2}\\/\\d{2,4})',\n",
    "        r'(\\d{1,2}\\.\\d{1,2}\\.\\d{2,4})',\n",
    "        \n",
    "    ]\n",
    "    \n",
    "    for line in file_split:\n",
    "        for p in pattern:\n",
    "            #if 'at not in line'\n",
    "            is_time = False\n",
    "            for key_word in is_time_key_word:\n",
    "                if key_word in line:\n",
    "                    is_time = True\n",
    "                    break\n",
    "            if is_time==False:\n",
    "                DATE += re.findall(p, line)\n",
    "    return DATE\n",
    "DATE_finder(file)"
   ]
  },
  {
   "cell_type": "markdown",
   "metadata": {},
   "source": [
    "# MEDICALRECORD"
   ]
  },
  {
   "cell_type": "code",
   "execution_count": 236,
   "metadata": {},
   "outputs": [
    {
     "data": {
      "text/plain": [
       "['091016.NMT']"
      ]
     },
     "execution_count": 236,
     "metadata": {},
     "output_type": "execute_result"
    }
   ],
   "source": [
    "def MEDICALRECORD_finder(file):\n",
    "    MEDICALRECORD = []\n",
    "    file_split = file.split('\\n')\n",
    "    pattern = [\n",
    "        r'^\\d{6,8}\\.?\\w?\\w?\\w?',\n",
    "        r'(?i)MRN *no:?\\s*(\\d{6,8}\\.?\\w?\\w?\\w?)',\n",
    "        \n",
    "    ]\n",
    "    \n",
    "    for line in file_split[:10]:\n",
    "        for p in pattern:\n",
    "            MEDICALRECORD += re.findall(p, line)\n",
    "    return MEDICALRECORD\n",
    "MEDICALRECORD_finder(file)\n",
    "\n",
    "\n"
   ]
  }
 ],
 "metadata": {
  "kernelspec": {
   "display_name": "base",
   "language": "python",
   "name": "python3"
  },
  "language_info": {
   "codemirror_mode": {
    "name": "ipython",
    "version": 3
   },
   "file_extension": ".py",
   "mimetype": "text/x-python",
   "name": "python",
   "nbconvert_exporter": "python",
   "pygments_lexer": "ipython3",
   "version": "3.11.5"
  }
 },
 "nbformat": 4,
 "nbformat_minor": 2
}
