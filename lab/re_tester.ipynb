{
 "cells": [
  {
   "cell_type": "code",
   "execution_count": 11,
   "metadata": {},
   "outputs": [
    {
     "name": "stdout",
     "output_type": "stream",
     "text": [
      "<re.Match object; span=(1, 27), match='Reported by Dr D Maycumber'>\n"
     ]
    }
   ],
   "source": [
    "\n",
    "import pandas as pd\n",
    "import os \n",
    "import re\n",
    "\n",
    "\n",
    "\n",
    "FILE_DIR = '../data/file/'\n",
    "ANS_PATH = './data/file/answer.txt'\n",
    "\n",
    "\n",
    "file = ''\n",
    "with open(FILE_DIR+'101.txt', 'r') as f:\n",
    "    file = f.read()\n",
    "\n",
    "\n",
    "p =  r'\\(([A-Za-z]{2})/'\n",
    "s =  '(VA/ec 19.7.62)'\n",
    "\n",
    "\n",
    "\n",
    "p = rf'(?i:Reported ?by ?Dr +)([A-Z][A-Za-z]*(?: [A-Z][A-Za-z]*)?(?: [A-Z][A-Za-z]*)?)'\n",
    "s = '(Reported by Dr D Maycumber)'\n",
    "res = re.finditer(p , s)\n",
    "\n",
    "for i in res:\n",
    "    # get how many groups are there\n",
    "    print(i)\n",
    "\n",
    "\n",
    "\n",
    "\n"
   ]
  },
  {
   "cell_type": "code",
   "execution_count": 8,
   "metadata": {},
   "outputs": [
    {
     "name": "stdout",
     "output_type": "stream",
     "text": [
      "(\\d{1,2}):(\\d{1,2})(?:am|pm) on the (\\d\\d)(?:th|st|nd|rd) of (January|February|March|April|May|June|July|August|September|October|November|December) (\\d\\d\\d\\d)\n"
     ]
    },
    {
     "data": {
      "text/plain": [
       "re.compile(r'(\\d{1,2}):(\\d{1,2})(?:am|pm) on the (\\d\\d)(?:th|st|nd|rd) of (January|February|March|April|May|June|July|August|September|October|November|December) (\\d\\d\\d\\d)',\n",
       "           re.UNICODE)"
      ]
     },
     "execution_count": 8,
     "metadata": {},
     "output_type": "execute_result"
    }
   ],
   "source": [
    "import re\n",
    "p = r''\n",
    "p = r'(\\d{1,2}):(\\d{1,2})(?:am|pm) on the (\\d\\d)(?:th|st|nd|rd) of (January|February|March|April|May|June|July|August|September|October|November|December) (\\d\\d\\d\\d)'               \n",
    "print(p)\n",
    "re.compile(p)"
   ]
  }
 ],
 "metadata": {
  "kernelspec": {
   "display_name": "base",
   "language": "python",
   "name": "python3"
  },
  "language_info": {
   "codemirror_mode": {
    "name": "ipython",
    "version": 3
   },
   "file_extension": ".py",
   "mimetype": "text/x-python",
   "name": "python",
   "nbconvert_exporter": "python",
   "pygments_lexer": "ipython3",
   "version": "3.11.5"
  }
 },
 "nbformat": 4,
 "nbformat_minor": 2
}
